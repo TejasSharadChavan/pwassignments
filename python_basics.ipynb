{
 "cells": [
  {
   "cell_type": "markdown",
   "id": "0b2169d1-b1cb-4a4c-8ff3-59502e3e0da6",
   "metadata": {},
   "source": [
    " 1. What is Python, and why is it popular?\n",
    " Python is a high level programming language, versatile and english like syntax. its poular because of its wide range of applications including web development, data analytics & data science, machine learning, and software development and testing."
   ]
  },
  {
   "cell_type": "markdown",
   "id": "dbcaa1be-7d1c-4db4-8dcf-1ebc75be0695",
   "metadata": {},
   "source": [
    "2.  What is an interpreter in Python?\n",
    "    A Python interpreter is a program that directly executes Python code. Unlike compiled languages, which are first translated into    machine code before execution, Python is an interpreted language"
   ]
  },
  {
   "cell_type": "markdown",
   "id": "7e944112-d74e-4001-8160-e3770730184e",
   "metadata": {},
   "source": [
    "3. What are pre-defined keywords in Python?\n",
    "   Pre-defined keywords in Python are reserved words that have special meanings and functionalities within the language"
   ]
  },
  {
   "cell_type": "markdown",
   "id": "75cad722-290e-4e03-a845-028d1f191681",
   "metadata": {},
   "source": [
    "4. Can keywords be used as variable names?\n",
    "   no its not allowed in python\n"
   ]
  },
  {
   "cell_type": "markdown",
   "id": "4109548e-15b6-49bd-b661-97c3cafeb473",
   "metadata": {},
   "source": [
    "5. What is mutability in Python?\n",
    "   In Python, mutability refers to whether an object's state or value can be changed after it has been created."
   ]
  },
  {
   "cell_type": "markdown",
   "id": "81c7d954-72a7-416b-9e64-e897fe02ec6f",
   "metadata": {},
   "source": [
    "6. Why are lists mutable, but tuples are immutable?\n",
    "   Lists are mutable because their class implementation includes operations (like append() and __setitem__) that allow for adding, removing, and changing elements after creation. Conversely, tuples are immutable because their implementation does not provide such mutator methods, meaning they are fixed and cannot be changed once defined"
   ]
  },
  {
   "cell_type": "markdown",
   "id": "f41994dc-fd75-479c-8fdb-8f882d2896b4",
   "metadata": {},
   "source": [
    "7. What is the difference between “==” and “is” operators in Python?\n",
    "   == operator is used for value comparison and \"is\" operator is used to compare the variables which points at the same memory location."
   ]
  },
  {
   "cell_type": "markdown",
   "id": "c1d469a2-9934-44a6-a773-347a1cd33d86",
   "metadata": {},
   "source": [
    "8.  What are logical operators in Python\n",
    "Python utilizes logical operators to combine and manipulate Boolean expressions, which evaluate to either True or False. There are three main logical operators in Python:\n"
   ]
  },
  {
   "cell_type": "markdown",
   "id": "115d89f6-f646-43d8-9b7e-3b898f67fa93",
   "metadata": {},
   "source": [
    "9. What is type casting in Python?\n",
    "Type casting in Python, also known as type conversion, is the process of converting a variable from one data type to another."
   ]
  },
  {
   "cell_type": "markdown",
   "id": "36181d15-f0ba-4704-8620-6bd4804d1130",
   "metadata": {},
   "source": [
    "10. What is the difference between implicit and explicit type casting?\n",
    "    Implicit type casting (or widening) happens automatically when a smaller data type is converted to a larger one, with no risk of data loss. Explicit type casting (or narrowing) is performed manually by the programmer using specific syntax to convert a larger data type to a smaller one, which can lead to data loss or errors"
   ]
  },
  {
   "cell_type": "markdown",
   "id": "f054ad02-f931-4547-abc8-c8733b4e8e70",
   "metadata": {},
   "source": [
    "11.  What is the purpose of conditional statements in Python?\n",
    "    The purpose of conditional statements in Python is to control the flow of a program by executing specific blocks of code only when a certain condition is met."
   ]
  },
  {
   "cell_type": "markdown",
   "id": "1663296f-5419-4bb7-b34b-4f122d06bd6f",
   "metadata": {},
   "source": [
    "12. How does the elif statement work?\n",
    "     It functions as part of an if-elif-else chain, providing an alternative condition to evaluate if the preceding if or elif statements' conditions are false.\n"
   ]
  },
  {
   "cell_type": "markdown",
   "id": "6c459088-1dbe-4991-a114-6c9ac77f2372",
   "metadata": {},
   "source": [
    "13. What is the difference between for and while loops?\n",
    "    The main difference is that a for loop is used for a known, fixed number of iterations, while a while loop is used when the number of iterations is unknown and depends on a dynamic condition"
   ]
  },
  {
   "cell_type": "markdown",
   "id": "ac1983a3-f6a5-4c8e-84e0-355004956860",
   "metadata": {},
   "source": [
    "14.Describe a scenario where a while loop is more suitable than a for loop?\n",
    "    Consider a scenario where a program needs to repeatedly prompt a user for input until a specific valid input is received. For example, a program might ask the user to enter a number within a certain range, or a password that meets specific criteria."
   ]
  },
  {
   "cell_type": "code",
   "execution_count": 1,
   "id": "34b2f109-d168-4a23-8182-68bd7a612358",
   "metadata": {},
   "outputs": [
    {
     "name": "stdout",
     "output_type": "stream",
     "text": [
      "Hello world\n"
     ]
    }
   ],
   "source": [
    "print(\"Hello world\")"
   ]
  },
  {
   "cell_type": "code",
   "execution_count": 4,
   "id": "a401e7b6-b849-4cc0-aee6-a5c17114cd06",
   "metadata": {},
   "outputs": [
    {
     "name": "stdin",
     "output_type": "stream",
     "text": [
      "Enter your name:  Tejas\n",
      "Enter your age:  21\n"
     ]
    },
    {
     "name": "stdout",
     "output_type": "stream",
     "text": [
      "Tejas 21\n"
     ]
    }
   ],
   "source": [
    "name = input(\"Enter your name: \")\n",
    "age = input(\"Enter your age: \")\n",
    "print(name, age)"
   ]
  },
  {
   "cell_type": "code",
   "execution_count": 7,
   "id": "ac8ed588-f7b1-4a05-8a5e-4b4827918b8c",
   "metadata": {},
   "outputs": [
    {
     "name": "stdout",
     "output_type": "stream",
     "text": [
      "['False', 'None', 'True', 'and', 'as', 'assert', 'async', 'await', 'break', 'class', 'continue', 'def', 'del', 'elif', 'else', 'except', 'finally', 'for', 'from', 'global', 'if', 'import', 'in', 'is', 'lambda', 'nonlocal', 'not', 'or', 'pass', 'raise', 'return', 'try', 'while', 'with', 'yield']\n"
     ]
    }
   ],
   "source": [
    "import keyword\n",
    "print(keyword.kwlist)"
   ]
  },
  {
   "cell_type": "code",
   "execution_count": 10,
   "id": "284d93e9-a407-4d54-bcf4-7e4b352bc77d",
   "metadata": {},
   "outputs": [
    {
     "name": "stdin",
     "output_type": "stream",
     "text": [
      "Enter the keyword:  if\n"
     ]
    },
    {
     "name": "stdout",
     "output_type": "stream",
     "text": [
      "if is keyword\n"
     ]
    }
   ],
   "source": [
    "val = input(\"Enter the keyword: \")\n",
    "if keyword.iskeyword(val):\n",
    "    print(f\"{val} is keyword\")\n",
    "else:\n",
    "    print(f\"{val} is not keyword\")"
   ]
  },
  {
   "cell_type": "code",
   "execution_count": 14,
   "id": "3d05ba4c-4156-4ac2-98c3-15766fbbfb73",
   "metadata": {},
   "outputs": [
    {
     "data": {
      "text/plain": [
       "['Sanika', 'Chavan', 'Sharad', 1, 2, 3]"
      ]
     },
     "execution_count": 14,
     "metadata": {},
     "output_type": "execute_result"
    }
   ],
   "source": [
    "list1 = [\"Tejas\", \"Chavan\", \"Sharad\", 1,2,3]\n",
    "list1[0] = \"Sanika\"\n",
    "list1"
   ]
  },
  {
   "cell_type": "code",
   "execution_count": 15,
   "id": "4e16615a-2682-4a73-9607-04f2cb8b6fd9",
   "metadata": {},
   "outputs": [
    {
     "data": {
      "text/plain": [
       "'Tejas'"
      ]
     },
     "execution_count": 15,
     "metadata": {},
     "output_type": "execute_result"
    }
   ],
   "source": [
    "tuple1 = (\"Tejas\", \"Chavan\", \"Sharad\", 1,2,3)\n",
    "tuple1[0]"
   ]
  },
  {
   "cell_type": "code",
   "execution_count": 16,
   "id": "9e0c9b6f-768f-4a10-bbf0-5a05f1b38ca4",
   "metadata": {},
   "outputs": [
    {
     "ename": "TypeError",
     "evalue": "'tuple' object does not support item assignment",
     "output_type": "error",
     "traceback": [
      "\u001b[1;31m---------------------------------------------------------------------------\u001b[0m",
      "\u001b[1;31mTypeError\u001b[0m                                 Traceback (most recent call last)",
      "Cell \u001b[1;32mIn[16], line 1\u001b[0m\n\u001b[1;32m----> 1\u001b[0m tuple1[\u001b[38;5;241m0\u001b[39m] \u001b[38;5;241m=\u001b[39m \u001b[38;5;124m\"\u001b[39m\u001b[38;5;124mSanika\u001b[39m\u001b[38;5;124m\"\u001b[39m\n\u001b[0;32m      2\u001b[0m tuple1\n",
      "\u001b[1;31mTypeError\u001b[0m: 'tuple' object does not support item assignment"
     ]
    }
   ],
   "source": [
    "tuple1[0] = \"Sanika\"\n",
    "tuple1"
   ]
  },
  {
   "cell_type": "code",
   "execution_count": 23,
   "id": "557ea3bb-c9b5-40f3-af3b-b8e343995194",
   "metadata": {},
   "outputs": [
    {
     "name": "stdout",
     "output_type": "stream",
     "text": [
      "['Tejas', 'Chavan', 'Sharad', 1, 2, 3, 100]\n",
      "10\n"
     ]
    }
   ],
   "source": [
    "lst = [\"Tejas\", \"Chavan\", \"Sharad\", 1,2,3]\n",
    "no = 10\n",
    "\n",
    "def modify_list(lst):\n",
    "    lst.append(100)\n",
    "\n",
    "def modify_no(num):\n",
    "    num = num + 10\n",
    "    \n",
    "modify_list(lst)\n",
    "modify_no(no)\n",
    "print(lst)\n",
    "print(no)"
   ]
  },
  {
   "cell_type": "code",
   "execution_count": 24,
   "id": "870dcc31-eb8b-48ac-94af-ee60d790836f",
   "metadata": {},
   "outputs": [
    {
     "name": "stdin",
     "output_type": "stream",
     "text": [
      "Enter first number:  10\n",
      "Enter second number:  5\n"
     ]
    },
    {
     "name": "stdout",
     "output_type": "stream",
     "text": [
      "Addition: 15\n",
      "Subtraction: 5\n",
      "Multiplication: 50\n",
      "Division: 2.0\n"
     ]
    }
   ],
   "source": [
    "a = int(input(\"Enter first number: \"))\n",
    "b = int(input(\"Enter second number: \"))\n",
    "\n",
    "print(\"Addition:\", a + b)\n",
    "print(\"Subtraction:\", a - b)\n",
    "print(\"Multiplication:\", a * b)\n",
    "print(\"Division:\", a / b if b != 0 else \"undefined\")\n"
   ]
  },
  {
   "cell_type": "code",
   "execution_count": 26,
   "id": "78229995-5014-4529-9234-798919a83155",
   "metadata": {},
   "outputs": [
    {
     "name": "stdout",
     "output_type": "stream",
     "text": [
      "False\n",
      "True\n",
      "True\n"
     ]
    }
   ],
   "source": [
    "x = True\n",
    "y = False\n",
    "print(x and y)\n",
    "print(x or y)\n",
    "print(not y)"
   ]
  },
  {
   "cell_type": "code",
   "execution_count": 28,
   "id": "b075a84b-a86c-46de-a2e3-0947937f1dee",
   "metadata": {},
   "outputs": [
    {
     "name": "stdin",
     "output_type": "stream",
     "text": [
      "Enter first name: tejas\n",
      "Enter age: 21\n",
      "Enter status : False\n"
     ]
    },
    {
     "name": "stdout",
     "output_type": "stream",
     "text": [
      "<class 'str'>\n",
      "<class 'str'>\n",
      "<class 'str'>\n",
      "<class 'int'>\n",
      "<class 'bool'>\n"
     ]
    }
   ],
   "source": [
    "name = input(\"Enter first name:\")\n",
    "age = input(\"Enter age:\")\n",
    "isMarried = input(\"Enter status :\")\n",
    "print(type(name))\n",
    "print(type(age))\n",
    "print(type(isMarried))\n",
    "print(type(int(age)))\n",
    "print(type(bool(isMarried)))"
   ]
  },
  {
   "cell_type": "code",
   "execution_count": 30,
   "id": "2be65d53-61ce-4137-9f62-726bb42005bf",
   "metadata": {},
   "outputs": [
    {
     "name": "stdout",
     "output_type": "stream",
     "text": [
      "['10', '20', '30']\n",
      "[10, 20, 30]\n"
     ]
    }
   ],
   "source": [
    "my_list = [\"10\", \"20\", \"30\"]\n",
    "int_list = list(map(int, my_list))\n",
    "print(my_list)\n",
    "print(int_list)"
   ]
  },
  {
   "cell_type": "code",
   "execution_count": 33,
   "id": "aabefc5c-8580-4156-ba38-74edecae0b79",
   "metadata": {},
   "outputs": [
    {
     "name": "stdin",
     "output_type": "stream",
     "text": [
      "Enter your num:  -15\n"
     ]
    },
    {
     "name": "stdout",
     "output_type": "stream",
     "text": [
      "negative\n"
     ]
    }
   ],
   "source": [
    "no = input(\"Enter your num: \")\n",
    "if(int(no) == 0):\n",
    "    print(\"No is 0\")\n",
    "elif(int(no) < 0) :\n",
    "    print(\"negative\")\n",
    "else:\n",
    "    print(\"positive\")"
   ]
  },
  {
   "cell_type": "code",
   "execution_count": 34,
   "id": "0f9d7e2c-5d47-4722-99ae-798e9226731c",
   "metadata": {},
   "outputs": [
    {
     "name": "stdout",
     "output_type": "stream",
     "text": [
      "1 2 3 4 5 6 7 8 9 10 "
     ]
    }
   ],
   "source": [
    "for i in range(1,11):\n",
    "    print(i,end=\" \")"
   ]
  },
  {
   "cell_type": "code",
   "execution_count": 36,
   "id": "d38dd595-b6a5-4f95-9c98-345fd28ab98c",
   "metadata": {},
   "outputs": [
    {
     "name": "stdout",
     "output_type": "stream",
     "text": [
      "650\n"
     ]
    }
   ],
   "source": [
    "sum = 0\n",
    "for i in range(2, 51, 2):\n",
    "    sum = sum + i\n",
    "print(sum)"
   ]
  },
  {
   "cell_type": "code",
   "execution_count": 45,
   "id": "bc94c90d-4cff-4e0d-964e-f484594d4f32",
   "metadata": {},
   "outputs": [
    {
     "data": {
      "text/plain": [
       "'sajet'"
      ]
     },
     "execution_count": 45,
     "metadata": {},
     "output_type": "execute_result"
    }
   ],
   "source": [
    "reverse = \"tejas\"\n",
    "reverse[::-1]"
   ]
  },
  {
   "cell_type": "code",
   "execution_count": 48,
   "id": "bd1f9e87-e74c-408b-9a20-63d949541d5e",
   "metadata": {},
   "outputs": [
    {
     "name": "stdin",
     "output_type": "stream",
     "text": [
      "Enter the no:  5\n"
     ]
    },
    {
     "name": "stdout",
     "output_type": "stream",
     "text": [
      "120\n"
     ]
    }
   ],
   "source": [
    "no = input(\"Enter the no: \")\n",
    "no = int(no)\n",
    "sum = 1\n",
    "while no > 0:\n",
    "    sum = sum * no\n",
    "    no-=1\n",
    "print(sum)"
   ]
  },
  {
   "cell_type": "code",
   "execution_count": null,
   "id": "23adbb40-4f05-453b-8c78-25e74e106d8e",
   "metadata": {},
   "outputs": [],
   "source": []
  }
 ],
 "metadata": {
  "kernelspec": {
   "display_name": "Python 3 (ipykernel)",
   "language": "python",
   "name": "python3"
  },
  "language_info": {
   "codemirror_mode": {
    "name": "ipython",
    "version": 3
   },
   "file_extension": ".py",
   "mimetype": "text/x-python",
   "name": "python",
   "nbconvert_exporter": "python",
   "pygments_lexer": "ipython3",
   "version": "3.12.7"
  }
 },
 "nbformat": 4,
 "nbformat_minor": 5
}

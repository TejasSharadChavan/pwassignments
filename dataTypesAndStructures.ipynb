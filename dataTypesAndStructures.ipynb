{
 "cells": [
  {
   "cell_type": "markdown",
   "id": "21817c71-3354-4645-a636-36e0e056501f",
   "metadata": {},
   "source": [
    "Q1. What are data structures, and why are they important?\n",
    "Ans:\n",
    "Data structures are ways of organizing and storing data so it can be used efficiently. They are important because they help optimize operations like searching, inserting, deleting, and updating data. Examples: arrays, linked lists, stacks, queues, trees, graphs, hash tables."
   ]
  },
  {
   "cell_type": "markdown",
   "id": "82ccbcbb-2c4b-414b-a6f8-9480c6091edf",
   "metadata": {},
   "source": [
    "Q2. Explain the difference between mutable and immutable data types with examples.\n",
    "Ans:\n",
    "\n",
    "Mutable: Can be changed after creation. Example: list = [1,2,3]; list[0] = 10.\n",
    "\n",
    "Immutable: Cannot be changed after creation. Example: string = \"hello\"; string[0] = \"H\" is not allowed"
   ]
  },
  {
   "cell_type": "markdown",
   "id": "8617c45c-067b-4cfb-94fd-8890e339a72e",
   "metadata": {},
   "source": [
    "Q3. What are the main differences between lists and tuples in Python?\n",
    "Ans:\n",
    "\n",
    "List: Mutable, slower, written as [ ]\n",
    "\n",
    "Tuple: Immutable, faster, written as ( )\n",
    "Example: list = [1,2], tuple = (1,2)"
   ]
  },
  {
   "cell_type": "markdown",
   "id": "db72b100-81ed-40f8-b59c-9854981efa83",
   "metadata": {},
   "source": [
    "Q4. Describe how dictionaries store data.\n",
    "Ans:\n",
    "Dictionaries store data as key-value pairs using a hashing mechanism. Keys must be immutable (e.g., strings, numbers, tuples), and values can be any data type. Example: {\"name\":\"Tejas\",\"age\":20}"
   ]
  },
  {
   "cell_type": "markdown",
   "id": "94fbb5e9-97ca-4b84-8358-f7cce044ed1c",
   "metadata": {},
   "source": [
    "Q5. Why might you use a set instead of a list in Python?\n",
    "Ans:\n",
    "\n",
    "Sets do not allow duplicate values.\n",
    "\n",
    "Faster membership checking (in) than lists.\n",
    "Example: {1,2,3} vs [1,2,2,3]"
   ]
  },
  {
   "cell_type": "markdown",
   "id": "f8d95501-5552-4158-9cd9-9434b04d5e73",
   "metadata": {},
   "source": [
    "Q6. What is a string in Python, and how is it different from a list?\n",
    "Ans:\n",
    "\n",
    "String: Immutable sequence of characters. Example: \"hello\".\n",
    "\n",
    "List: Mutable sequence of items (can hold different data types). Example: [1,\"hi\",3.5]"
   ]
  },
  {
   "cell_type": "markdown",
   "id": "122dcd11-8f6b-4d3d-8531-4e3566136380",
   "metadata": {},
   "source": [
    "Q7. How do tuples ensure data integrity in Python?\n",
    "Ans:\n",
    "Since tuples are immutable, once created they cannot be modified. This prevents accidental changes, ensuring data integrity"
   ]
  },
  {
   "cell_type": "markdown",
   "id": "a52e1f4c-0796-4d91-9278-f03778b9f5fc",
   "metadata": {},
   "source": [
    "Q8. What is a hash table, and how does it relate to dictionaries in Python?\n",
    "Ans:\n",
    "A hash table is a data structure that maps keys to values using a hash function. Python dictionaries are implemented as hash tables"
   ]
  },
  {
   "cell_type": "markdown",
   "id": "927d09af-81a7-47bf-a092-282e9f58f49e",
   "metadata": {},
   "source": [
    "Q9. Can lists contain different data types in Python?\n",
    "Ans:\n",
    "Yes ,my_list = [1, \"hello\", 3.5, True]"
   ]
  },
  {
   "cell_type": "markdown",
   "id": "5ced6af6-ce80-49d6-8a3b-d74e7baf0a96",
   "metadata": {},
   "source": [
    "Q10. Explain why strings are immutable in Python.\n",
    "Ans:\n",
    "Strings are immutable because they are stored in memory as fixed objects. This allows efficient memory management, caching, and thread safety"
   ]
  },
  {
   "cell_type": "markdown",
   "id": "e58f2ed6-95d5-4a9b-b335-b52acf3396e2",
   "metadata": {},
   "source": [
    "Q11. What advantages do dictionaries offer over lists for certain tasks?\n",
    "Ans:\n",
    "\n",
    "Faster lookups using keys \n",
    "\n",
    "Better for mapping relationships (e.g., name → mansi)."
   ]
  },
  {
   "cell_type": "markdown",
   "id": "8a54f97d-97cf-4f96-8af0-3f5a37784ed4",
   "metadata": {},
   "source": [
    "Q12. Describe a scenario where using a tuple would be preferable over a list.\n",
    "Ans:\n",
    "When data should not change, e.g., storing geographical coordinates (lat, long) or configuration values"
   ]
  },
  {
   "cell_type": "markdown",
   "id": "cfcbc2c5-29a6-4f64-9eb0-99dd783f0346",
   "metadata": {},
   "source": [
    "Q13. How do sets handle duplicate values in Python?\n",
    "Ans:\n",
    "Sets automatically remove duplicates. Example:\n",
    "set([1,2,2,3]) → {1,2,3}"
   ]
  },
  {
   "cell_type": "markdown",
   "id": "4b707460-756e-49f4-bea4-2857267a69d0",
   "metadata": {},
   "source": [
    "Q14. How does the “in” keyword work differently for lists and dictionaries?\n",
    "Ans:\n",
    "\n",
    "For lists: Checks if the element exists. Example: 2 in [1,2,3] → True.\n",
    "\n",
    "For dictionaries: Checks if the key exists, not the value. Example: \"name\" in {\"name\":\"Tejas\"} → True"
   ]
  },
  {
   "cell_type": "markdown",
   "id": "c0707a65-4605-4e8a-9bda-b6062357e719",
   "metadata": {},
   "source": [
    "Q15. Can you modify the elements of a tuple? Explain why or why not.\n",
    "Ans:\n",
    "No, because tuples are immutable. Once created, their elements cannot be changed"
   ]
  },
  {
   "cell_type": "markdown",
   "id": "847d6234-9532-409c-855d-5872bdf1bd91",
   "metadata": {},
   "source": [
    "Q16. What is a nested dictionary, and give an example of its use case.\n",
    "Ans:\n",
    "A dictionary inside another dictionary.\n",
    "Example:\n",
    "students = {\n",
    "    \"Tejas\": {\"age\":20,\"branch\":\"IT\"},\n",
    "    \"Ravi\": {\"age\":21,\"branch\":\"CS\"}\n",
    "}\n"
   ]
  },
  {
   "cell_type": "code",
   "execution_count": 14,
   "id": "f2085e0a-2bc8-4903-807f-a1e678817ed8",
   "metadata": {},
   "outputs": [
    {
     "data": {
      "text/plain": [
       "{'Tejas': {'age': 20, 'branch': 'IT'}, 'Ravi': {'age': 21, 'branch': 'CS'}}"
      ]
     },
     "execution_count": 14,
     "metadata": {},
     "output_type": "execute_result"
    }
   ],
   "source": [
    "students"
   ]
  },
  {
   "cell_type": "code",
   "execution_count": 19,
   "id": "c06159ae-f99f-47bb-aa51-fdb9c2176103",
   "metadata": {},
   "outputs": [
    {
     "data": {
      "text/plain": [
       "20"
      ]
     },
     "execution_count": 19,
     "metadata": {},
     "output_type": "execute_result"
    }
   ],
   "source": [
    "students[\"Tejas\"][\"age\"]"
   ]
  },
  {
   "cell_type": "markdown",
   "id": "76b92975-92bc-4184-b66d-0c34c1232842",
   "metadata": {},
   "source": [
    "Q17. Describe the time complexity of accessing elements in a dictionary.\n",
    "Ans:\n",
    "Average case: O(1) using hashing.\n",
    "Worst case (rare): O(n) if hash collisions occur"
   ]
  },
  {
   "cell_type": "markdown",
   "id": "01bda55f-ce75-49b3-a0a0-5e6762d83cd3",
   "metadata": {},
   "source": [
    "Q18. In what situations are lists preferred over dictionaries?\n",
    "Ans:\n",
    "\n",
    "When order matters.\n",
    "\n",
    "When storing simple sequences of data.\n",
    "\n",
    "When indexing by position is required"
   ]
  },
  {
   "cell_type": "markdown",
   "id": "d3e8116f-93dc-4fd1-b0f2-12e8c5934f12",
   "metadata": {},
   "source": [
    "Q19. Why are dictionaries considered unordered, and how does that affect data retrieval?\n",
    "Ans:\n",
    "Dictionaries store data by hashing keys, not by position. Retrieval is based on keys, not order. (Since Python 3.7+, they maintain insertion order, but logically still considered unordered.)"
   ]
  },
  {
   "cell_type": "markdown",
   "id": "b62405b5-0067-419e-80a3-760c27fdc26e",
   "metadata": {},
   "source": [
    "Q20. Explain the difference between a list and a dictionary in terms of data retrieval.\n",
    "Ans:\n",
    "\n",
    "List: Access elements by index (position). Example: list[0].\n",
    "\n",
    "Dictionary: Access elements by key. Example: dict[\"name\"]"
   ]
  },
  {
   "cell_type": "code",
   "execution_count": 20,
   "id": "7d3f3600-89df-451a-927c-e516ee548d89",
   "metadata": {},
   "outputs": [
    {
     "name": "stdout",
     "output_type": "stream",
     "text": [
      "Q1\n",
      "Tejas Chavan\n"
     ]
    }
   ],
   "source": [
    "print(\"Q1\")\n",
    "name = \"Tejas Chavan\"\n",
    "print(name)"
   ]
  },
  {
   "cell_type": "code",
   "execution_count": 21,
   "id": "4235d040-32ff-4003-b065-86831fef2fb6",
   "metadata": {},
   "outputs": [
    {
     "name": "stdout",
     "output_type": "stream",
     "text": [
      "Q2\n",
      "11\n"
     ]
    }
   ],
   "source": [
    "# 2\n",
    "print(\"Q2\")\n",
    "text = \"Hello World\"\n",
    "print(len(text))"
   ]
  },
  {
   "cell_type": "code",
   "execution_count": 22,
   "id": "5df5cc7b-3345-4aaa-8519-c81f750f8ec1",
   "metadata": {},
   "outputs": [
    {
     "name": "stdout",
     "output_type": "stream",
     "text": [
      "Q3\n",
      "Pyt\n"
     ]
    }
   ],
   "source": [
    "# 3\n",
    "print(\"Q3\")\n",
    "s = \"Python Programming\"\n",
    "print(s[:3])"
   ]
  },
  {
   "cell_type": "code",
   "execution_count": 24,
   "id": "ec742130-db82-4545-952e-a94bf2ceb2fc",
   "metadata": {},
   "outputs": [
    {
     "name": "stdout",
     "output_type": "stream",
     "text": [
      "Q4\n",
      "HELLO\n"
     ]
    }
   ],
   "source": [
    "print(\"Q4\")\n",
    "word = \"hello\"\n",
    "print(word.upper())"
   ]
  },
  {
   "cell_type": "code",
   "execution_count": 31,
   "id": "65e63c83-129f-456f-88fa-de101b4c6821",
   "metadata": {},
   "outputs": [
    {
     "name": "stdout",
     "output_type": "stream",
     "text": [
      "Q5\n",
      "I like Orange\n"
     ]
    },
    {
     "data": {
      "text/plain": [
       "'I like Apple'"
      ]
     },
     "execution_count": 31,
     "metadata": {},
     "output_type": "execute_result"
    }
   ],
   "source": [
    "# 5\n",
    "print(\"Q5\")\n",
    "string  = \"I like Apple\"\n",
    "print(string.replace(\"Apple\", \"Orange\"))"
   ]
  },
  {
   "cell_type": "code",
   "execution_count": 30,
   "id": "a867687d-f7c4-4a1c-adb2-504d99ddb314",
   "metadata": {},
   "outputs": [
    {
     "name": "stdout",
     "output_type": "stream",
     "text": [
      "Q6\n",
      "[1, 2, 3, 4, 5]\n"
     ]
    }
   ],
   "source": [
    "# 6\n",
    "print(\"Q6\")\n",
    "numbers = [1, 2, 3, 4, 5]\n",
    "print(numbers)"
   ]
  },
  {
   "cell_type": "code",
   "execution_count": 32,
   "id": "b8e1278d-4ab9-4da3-b27f-a0dda22a2ac9",
   "metadata": {},
   "outputs": [
    {
     "name": "stdout",
     "output_type": "stream",
     "text": [
      "Q7\n",
      "[1, 2, 3, 4, 10]\n"
     ]
    }
   ],
   "source": [
    "# 7\n",
    "print(\"Q7\")\n",
    "lst = [1, 2, 3, 4]\n",
    "lst.append(10)\n",
    "print(lst)"
   ]
  },
  {
   "cell_type": "code",
   "execution_count": 33,
   "id": "b08ffa15-0597-47d5-b59d-e55992ce750f",
   "metadata": {},
   "outputs": [
    {
     "name": "stdout",
     "output_type": "stream",
     "text": [
      "Q8\n",
      "[1, 2, 4, 5]\n"
     ]
    }
   ],
   "source": [
    "# 8\n",
    "print(\"Q8\")\n",
    "lst = [1, 2, 3, 4, 5]\n",
    "lst.remove(3)\n",
    "print(lst)"
   ]
  },
  {
   "cell_type": "code",
   "execution_count": 34,
   "id": "faa3b5f6-c6d5-4210-ae83-f68b6040a00a",
   "metadata": {},
   "outputs": [
    {
     "name": "stdout",
     "output_type": "stream",
     "text": [
      "Q9\n",
      "b\n"
     ]
    }
   ],
   "source": [
    "# 9\n",
    "print(\"Q9\")\n",
    "letters = ['a', 'b', 'c', 'd']\n",
    "print(letters[1])"
   ]
  },
  {
   "cell_type": "code",
   "execution_count": 35,
   "id": "6d46da8f-23cf-4827-804a-40af9a9ff56f",
   "metadata": {},
   "outputs": [
    {
     "name": "stdout",
     "output_type": "stream",
     "text": [
      "Q10\n",
      "[50, 40, 30, 20, 10]\n"
     ]
    }
   ],
   "source": [
    "\n",
    "# 10\n",
    "print(\"Q10\")\n",
    "nums = [10, 20, 30, 40, 50]\n",
    "nums.reverse()\n",
    "print(nums)"
   ]
  },
  {
   "cell_type": "code",
   "execution_count": 36,
   "id": "5cf88392-b4bd-41ef-b9b0-afaa787ed8ff",
   "metadata": {},
   "outputs": [
    {
     "name": "stdout",
     "output_type": "stream",
     "text": [
      "Q11\n",
      "(100, 200, 300)\n"
     ]
    }
   ],
   "source": [
    "# 11\n",
    "print(\"Q11\")\n",
    "t = (100, 200, 300)\n",
    "print(t)"
   ]
  },
  {
   "cell_type": "code",
   "execution_count": 37,
   "id": "c684b409-5f1c-4e71-879a-e905f890dcb3",
   "metadata": {},
   "outputs": [
    {
     "name": "stdout",
     "output_type": "stream",
     "text": [
      "Q12\n",
      "blue\n"
     ]
    }
   ],
   "source": [
    "# 12\n",
    "print(\"Q12\")\n",
    "colors = ('red', 'green', 'blue', 'yellow')\n",
    "print(colors[-2])"
   ]
  },
  {
   "cell_type": "code",
   "execution_count": 38,
   "id": "4cf1b3c3-b4c5-4c93-9883-936943c0bc2b",
   "metadata": {},
   "outputs": [
    {
     "name": "stdout",
     "output_type": "stream",
     "text": [
      "Q13\n",
      "5\n"
     ]
    }
   ],
   "source": [
    "# 13\n",
    "print(\"Q13\")\n",
    "nums = (10, 20, 5, 15)\n",
    "print(min(nums))"
   ]
  },
  {
   "cell_type": "code",
   "execution_count": 39,
   "id": "a88a46c0-f730-4612-b5a1-fa67412288e2",
   "metadata": {},
   "outputs": [
    {
     "name": "stdout",
     "output_type": "stream",
     "text": [
      "Q14\n",
      "1\n"
     ]
    }
   ],
   "source": [
    "# 14\n",
    "print(\"Q14\")\n",
    "animals = ('dog', 'cat', 'rabbit')\n",
    "print(animals.index(\"cat\"))"
   ]
  },
  {
   "cell_type": "code",
   "execution_count": 40,
   "id": "1b540766-4507-4a1c-86fc-bb239a02f6e5",
   "metadata": {},
   "outputs": [
    {
     "name": "stdout",
     "output_type": "stream",
     "text": [
      "Q15\n",
      "False\n"
     ]
    }
   ],
   "source": [
    "# 15\n",
    "print(\"Q15\")\n",
    "fruits = (\"apple\", \"banana\", \"mango\")\n",
    "print(\"kiwi\" in fruits)"
   ]
  },
  {
   "cell_type": "code",
   "execution_count": 41,
   "id": "9854f422-e706-43b4-bd0b-27f71fa2bfda",
   "metadata": {},
   "outputs": [
    {
     "name": "stdout",
     "output_type": "stream",
     "text": [
      "Q16\n",
      "{'a', 'b', 'c'}\n"
     ]
    }
   ],
   "source": [
    "# 16\n",
    "print(\"Q16\")\n",
    "s = {'a', 'b', 'c'}\n",
    "print(s)"
   ]
  },
  {
   "cell_type": "code",
   "execution_count": 42,
   "id": "70e6c712-c694-4764-af44-c16bb5a64cb6",
   "metadata": {},
   "outputs": [
    {
     "name": "stdout",
     "output_type": "stream",
     "text": [
      "Q17\n",
      "set()\n"
     ]
    }
   ],
   "source": [
    "# 17\n",
    "print(\"Q17\")\n",
    "s = {1, 2, 3, 4, 5}\n",
    "s.clear()\n",
    "print(s)"
   ]
  },
  {
   "cell_type": "code",
   "execution_count": 43,
   "id": "ad9fa549-f619-4019-961f-44c612ee3a05",
   "metadata": {},
   "outputs": [
    {
     "name": "stdout",
     "output_type": "stream",
     "text": [
      "Q18\n",
      "{1, 2, 3}\n"
     ]
    }
   ],
   "source": [
    "# 18\n",
    "print(\"Q18\")\n",
    "s = {1, 2, 3, 4}\n",
    "s.remove(4)\n",
    "print(s)"
   ]
  },
  {
   "cell_type": "code",
   "execution_count": 45,
   "id": "22936e59-d05b-4fa4-b33a-f562ef6db79b",
   "metadata": {},
   "outputs": [
    {
     "name": "stdout",
     "output_type": "stream",
     "text": [
      "Q19\n",
      "{1, 2, 3, 4, 5}\n"
     ]
    }
   ],
   "source": [
    "# 19\n",
    "print(\"Q19\")\n",
    "set1 = {1, 2, 3}\n",
    "set2 = {3, 4, 5}\n",
    "print(set1.union(set2))"
   ]
  },
  {
   "cell_type": "code",
   "execution_count": 46,
   "id": "f6e8e216-908a-49a7-ba04-07e66ea4d56f",
   "metadata": {},
   "outputs": [
    {
     "name": "stdout",
     "output_type": "stream",
     "text": [
      "Q20\n",
      "{2, 3}\n"
     ]
    }
   ],
   "source": [
    "# 20\n",
    "print(\"Q20\")\n",
    "set1 = {1, 2, 3}\n",
    "set2 = {2, 3, 4}\n",
    "print(set1.intersection(set2))"
   ]
  },
  {
   "cell_type": "code",
   "execution_count": 47,
   "id": "f27743a7-f827-44ed-86c1-7121c1b49a40",
   "metadata": {},
   "outputs": [
    {
     "name": "stdout",
     "output_type": "stream",
     "text": [
      "Q21\n",
      "{'name': 'John', 'age': 25, 'city': 'New York'}\n"
     ]
    }
   ],
   "source": [
    "# 21\n",
    "print(\"Q21\")\n",
    "person = {\"name\": \"John\", \"age\": 25, \"city\": \"New York\"}\n",
    "print(person)"
   ]
  },
  {
   "cell_type": "code",
   "execution_count": 48,
   "id": "f5c60810-4da5-4513-9000-155f593ca5eb",
   "metadata": {},
   "outputs": [
    {
     "name": "stdout",
     "output_type": "stream",
     "text": [
      "Q22\n",
      "{'name': 'John', 'age': 25, 'country': 'USA'}\n"
     ]
    }
   ],
   "source": [
    "# 22\n",
    "print(\"Q22\")\n",
    "d = {'name': 'John', 'age': 25}\n",
    "d[\"country\"] = \"USA\"\n",
    "print(d)"
   ]
  },
  {
   "cell_type": "code",
   "execution_count": 49,
   "id": "f64ee48b-55e1-4d8a-8acf-71dd08632000",
   "metadata": {},
   "outputs": [
    {
     "name": "stdout",
     "output_type": "stream",
     "text": [
      "Q23\n",
      "Alice\n"
     ]
    }
   ],
   "source": [
    "# 23\n",
    "print(\"Q23\")\n",
    "d = {'name': 'Alice', 'age': 30}\n",
    "print(d[\"name\"])"
   ]
  },
  {
   "cell_type": "code",
   "execution_count": 50,
   "id": "0b798649-2280-433e-aea7-e65b5641da13",
   "metadata": {},
   "outputs": [
    {
     "name": "stdout",
     "output_type": "stream",
     "text": [
      "Q24\n",
      "{'name': 'Bob', 'city': 'New York'}\n"
     ]
    }
   ],
   "source": [
    "# 24\n",
    "print(\"Q24\")\n",
    "d = {'name': 'Bob', 'age': 22, 'city': 'New York'}\n",
    "d.pop(\"age\")\n",
    "print(d)"
   ]
  },
  {
   "cell_type": "code",
   "execution_count": 51,
   "id": "71db98d9-f883-4c91-a03a-029962447eee",
   "metadata": {},
   "outputs": [
    {
     "name": "stdout",
     "output_type": "stream",
     "text": [
      "Q25\n",
      "True\n"
     ]
    }
   ],
   "source": [
    "# 25\n",
    "print(\"Q25\")\n",
    "d = {'name': 'Alice', 'city': 'Paris'}\n",
    "print(\"city\" in d)"
   ]
  },
  {
   "cell_type": "code",
   "execution_count": 52,
   "id": "fb59bd64-8cd6-463c-807c-486d7c04488f",
   "metadata": {},
   "outputs": [
    {
     "name": "stdout",
     "output_type": "stream",
     "text": [
      "Q26\n",
      "[1, 2, 3] (4, 5, 6) {'a': 1, 'b': 2}\n"
     ]
    }
   ],
   "source": [
    "# 26\n",
    "print(\"Q26\")\n",
    "lst = [1, 2, 3]\n",
    "t = (4, 5, 6)\n",
    "d = {\"a\": 1, \"b\": 2}\n",
    "print(lst, t, d)"
   ]
  },
  {
   "cell_type": "code",
   "execution_count": 53,
   "id": "dd80607d-6216-42b5-a8d8-d46f4967d7c0",
   "metadata": {},
   "outputs": [
    {
     "name": "stdout",
     "output_type": "stream",
     "text": [
      "Q27\n",
      "[2, 56, 72, 84, 86]\n"
     ]
    }
   ],
   "source": [
    "# 27\n",
    "print(\"Q27\")\n",
    "import random\n",
    "lst = random.sample(range(1, 101), 5)\n",
    "lst.sort()\n",
    "print(lst)"
   ]
  },
  {
   "cell_type": "code",
   "execution_count": 54,
   "id": "ec9ccc48-ade3-4367-b032-ff97ca8f4c86",
   "metadata": {},
   "outputs": [
    {
     "name": "stdout",
     "output_type": "stream",
     "text": [
      "Q28\n",
      "date\n"
     ]
    }
   ],
   "source": [
    "# 28\n",
    "print(\"Q28\")\n",
    "words = [\"apple\", \"banana\", \"cherry\", \"date\", \"fig\"]\n",
    "print(words[3])"
   ]
  },
  {
   "cell_type": "code",
   "execution_count": 55,
   "id": "b11d4b7d-58d0-45f9-8650-cce5fb3b37c5",
   "metadata": {},
   "outputs": [
    {
     "name": "stdout",
     "output_type": "stream",
     "text": [
      "Q29\n",
      "{'a': 1, 'b': 2, 'c': 3, 'd': 4}\n"
     ]
    }
   ],
   "source": [
    "# 29\n",
    "print(\"Q29\")\n",
    "d1 = {\"a\": 1, \"b\": 2}\n",
    "d2 = {\"c\": 3, \"d\": 4}\n",
    "d1.update(d2)\n",
    "print(d1)"
   ]
  },
  {
   "cell_type": "code",
   "execution_count": 56,
   "id": "0e3344ab-7333-429c-ab3a-eef1343b3c78",
   "metadata": {},
   "outputs": [
    {
     "name": "stdout",
     "output_type": "stream",
     "text": [
      "Q30\n",
      "{'cherry', 'banana', 'apple'}\n"
     ]
    }
   ],
   "source": [
    "# 30\n",
    "print(\"Q30\")\n",
    "lst = [\"apple\", \"banana\", \"cherry\", \"apple\"]\n",
    "s = set(lst)\n",
    "print(s)"
   ]
  },
  {
   "cell_type": "code",
   "execution_count": null,
   "id": "7d8939f6-eb94-405e-9e24-43218f2436d4",
   "metadata": {},
   "outputs": [],
   "source": []
  }
 ],
 "metadata": {
  "kernelspec": {
   "display_name": "Python 3 (ipykernel)",
   "language": "python",
   "name": "python3"
  },
  "language_info": {
   "codemirror_mode": {
    "name": "ipython",
    "version": 3
   },
   "file_extension": ".py",
   "mimetype": "text/x-python",
   "name": "python",
   "nbconvert_exporter": "python",
   "pygments_lexer": "ipython3",
   "version": "3.12.7"
  }
 },
 "nbformat": 4,
 "nbformat_minor": 5
}
